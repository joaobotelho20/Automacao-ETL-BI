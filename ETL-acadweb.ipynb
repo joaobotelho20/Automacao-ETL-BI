{
 "cells": [
  {
   "cell_type": "code",
   "execution_count": 51,
   "id": "89f06dbe",
   "metadata": {},
   "outputs": [],
   "source": [
    "import pyautogui\n",
    "import subprocess\n",
    "import time\n",
    "import pygetwindow as gw\n",
    "import pyperclip"
   ]
  },
  {
   "cell_type": "code",
   "execution_count": 52,
   "id": "65b97957",
   "metadata": {},
   "outputs": [],
   "source": [
    "software_path = r\"C:\\QualinfoCloud\\acadwebcursos.exe\"\n",
    "subprocess.Popen(software_path)\n",
    "time.sleep(5)\n",
    "\n",
    "# (Opcional) Ativar a janela se souber o título\n",
    "janela = gw.getWindowsWithTitle(\"acadwebcursos\")[0]\n",
    "janela.activate()\n",
    "time.sleep(2)\n",
    "\n",
    "pyautogui.PAUSE = 1\n",
    "# Digitar o nome de usuário\n",
    "pyautogui.doubleClick(x=853, y=370)  # ajuste a posição do campo de usuário\n",
    "pyautogui.write(\"julia.martins.lc@gmail.com\", interval=0.1)\n",
    "\n",
    "pyautogui.click(x=716, y=396)  # ajuste a posição do campo de senha\n",
    "pyautogui.write(\"360702\",interval=0.1)\n",
    "pyautogui.press('enter')\n",
    "time.sleep(2)\n",
    "pyautogui.press('enter')\n",
    "time.sleep(10)\n",
    "pyautogui.press('esc')"
   ]
  },
  {
   "cell_type": "code",
   "execution_count": 53,
   "id": "22d7ba3d",
   "metadata": {},
   "outputs": [],
   "source": [
    "pyautogui.hotkey('alt', 'a')     \n",
    "pyautogui.press('a')\n",
    "time.sleep(5)\n",
    "pyautogui.click(x=184, y=686)  # relatorio botao\n",
    "time.sleep(3)\n",
    "pyautogui.write(\"101\",interval=0.1)\n",
    "pyautogui.hotkey('alt', 'r') \n",
    "\n",
    "pyautogui.press('tab', presses=2, interval=0.5)  \n",
    "pyperclip.copy('01/05/2025')\n",
    "pyautogui.hotkey('ctrl', 'v') \n",
    "pyautogui.press('tab')\n",
    "\n",
    "pyperclip.copy('31/05/2025')\n",
    "pyautogui.hotkey('ctrl', 'v') \n",
    "pyautogui.press('tab')\n",
    "pyautogui.hotkey('ctrl', 'v') \n",
    "\n",
    "pyautogui.click(x=1024, y=639)\n",
    "time.sleep(8)\n",
    "\n",
    "pyautogui.click(x=308, y=39)\n",
    "pyautogui.press('tab', presses=2, interval=0.5)  \n",
    "pyautogui.press('down')  \n",
    "pyautogui.press('tab', presses=2, interval=0.5)  \n",
    "pyautogui.press('enter')  \n",
    "time.sleep(3)\n",
    "\n",
    "pyautogui.write('evasao_analitico_maio_2025',interval=0.1)\n",
    "pyautogui.press('tab', presses=7, interval=0.5)  \n",
    "pyautogui.press('enter')\n",
    "time.sleep(2)\n",
    "pyautogui.write(r'c:\\Users\\USER\\Desktop',interval=0.1)\n",
    "pyautogui.press('enter')\n",
    "pyautogui.hotkey('alt', 'l') \n",
    "\n",
    "\n",
    "\n"
   ]
  }
 ],
 "metadata": {
  "kernelspec": {
   "display_name": "Python 3",
   "language": "python",
   "name": "python3"
  },
  "language_info": {
   "codemirror_mode": {
    "name": "ipython",
    "version": 3
   },
   "file_extension": ".py",
   "mimetype": "text/x-python",
   "name": "python",
   "nbconvert_exporter": "python",
   "pygments_lexer": "ipython3",
   "version": "3.13.1"
  }
 },
 "nbformat": 4,
 "nbformat_minor": 5
}
