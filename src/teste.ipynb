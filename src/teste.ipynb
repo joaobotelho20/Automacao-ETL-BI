{
 "cells": [
  {
   "cell_type": "code",
   "execution_count": 1,
   "id": "097f2ea7",
   "metadata": {},
   "outputs": [],
   "source": [
    "import pyautogui\n",
    "import subprocess\n",
    "import time\n",
    "import pygetwindow as gw\n",
    "from datetime import datetime, timedelta\n",
    "import logging\n",
    "from utils import obter_credenciais, configurar_logging, detectar_e_aceitar_popup"
   ]
  },
  {
   "cell_type": "code",
   "execution_count": 2,
   "id": "821a274a",
   "metadata": {},
   "outputs": [
    {
     "name": "stdout",
     "output_type": "stream",
     "text": [
      "Pop-up não detectado dentro do tempo limite.\n"
     ]
    },
    {
     "ename": "NameError",
     "evalue": "name 'detectar_e_aguardar_popup' is not defined",
     "output_type": "error",
     "traceback": [
      "\u001b[31m---------------------------------------------------------------------------\u001b[39m",
      "\u001b[31mNameError\u001b[39m                                 Traceback (most recent call last)",
      "\u001b[36mCell\u001b[39m\u001b[36m \u001b[39m\u001b[32mIn[2]\u001b[39m\u001b[32m, line 64\u001b[39m\n\u001b[32m     61\u001b[39m pyautogui.press(\u001b[33m'\u001b[39m\u001b[33menter\u001b[39m\u001b[33m'\u001b[39m)\n\u001b[32m     62\u001b[39m time.sleep(\u001b[32m3\u001b[39m)\n\u001b[32m---> \u001b[39m\u001b[32m64\u001b[39m \u001b[43mdetectar_e_aguardar_popup\u001b[49m(imagem_popup= \u001b[33mr\u001b[39m\u001b[33m'\u001b[39m\u001b[33mC:\u001b[39m\u001b[33m\\\u001b[39m\u001b[33mUsers\u001b[39m\u001b[33m\\\u001b[39m\u001b[33mUSER\u001b[39m\u001b[33m\\\u001b[39m\u001b[33mDesktop\u001b[39m\u001b[33m\\\u001b[39m\u001b[33mGitHub\u001b[39m\u001b[33m\\\u001b[39m\u001b[33mAutomacao-ETL-BI\u001b[39m\u001b[33m\\\u001b[39m\u001b[33msrc\u001b[39m\u001b[33m\\\u001b[39m\u001b[33mpopup_aguarde.png\u001b[39m\u001b[33m'\u001b[39m, timeout = \u001b[32m230\u001b[39m, intervalo = \u001b[32m15\u001b[39m)\n\u001b[32m     66\u001b[39m pyautogui.write(\u001b[33m'\u001b[39m\u001b[33mpro_matriculas_recebidas\u001b[39m\u001b[33m'\u001b[39m, interval=\u001b[32m0.1\u001b[39m)\n\u001b[32m     67\u001b[39m pyautogui.press(\u001b[33m'\u001b[39m\u001b[33mtab\u001b[39m\u001b[33m'\u001b[39m, presses=\u001b[32m7\u001b[39m, interval=\u001b[32m0.5\u001b[39m)\n",
      "\u001b[31mNameError\u001b[39m: name 'detectar_e_aguardar_popup' is not defined"
     ]
    }
   ],
   "source": [
    "configurar_logging(path=r'C:\\Users\\USER\\Desktop\\GitHub\\Automacao-ETL-BI\\logs\\ETL.log', nivel=logging.INFO)\n",
    "\n",
    "pyautogui.FAILSAFE = True\n",
    "\n",
    "software_path = r\"C:\\QualinfoCloud\\acadwebcursos.exe\"\n",
    "subprocess.Popen(software_path)\n",
    "time.sleep(5)\n",
    "\n",
    "# (Opcional) Ativar a janela se souber o título\n",
    "janela = gw.getWindowsWithTitle(\"acadwebcursos\")[0]\n",
    "janela.activate()\n",
    "time.sleep(2)\n",
    "\n",
    "\n",
    "email, senha = obter_credenciais(\"EMAIL\", \"SENHA\", dotenv_path=r'C:\\Users\\USER\\Desktop\\GitHub\\Automacao-ETL-BI\\config\\credenciais.env')\n",
    "\n",
    "pyautogui.doubleClick(x=853, y=370)  # ajuste a posição do campo de usuário\n",
    "pyautogui.PAUSE = 1\n",
    "pyautogui.write(email, interval=0.06)\n",
    "# pyautogui.click(x=716, y=396)\n",
    "pyautogui.press('tab')\n",
    "pyautogui.write(senha, interval=0.06)\n",
    "pyautogui.press('enter')\n",
    "time.sleep(2)\n",
    "pyautogui.press('up')  # entrando unidade\n",
    "pyautogui.press('enter')  # entrando unidade\n",
    "time.sleep(5)\n",
    "\n",
    "detectar_e_aceitar_popup(imagem_popup= r'C:\\Users\\USER\\Desktop\\GitHub\\Automacao-ETL-BI\\src\\popup_login.png', timeout = 3, intervalo = 0.5)\n",
    "\n",
    "time.sleep(10)\n",
    "pyautogui.press('esc')  # removendo popup de aviso inicial\n",
    "\n",
    "pyautogui.hotkey('alt', 'a')\n",
    "pyautogui.press('a')\n",
    "time.sleep(5)\n",
    "pyautogui.click(x=184, y=686)  # relatorio botao\n",
    "time.sleep(3)\n",
    "pyautogui.write(\"26\", interval=0.1)\n",
    "pyautogui.hotkey('alt', 'r')  # executando relatorio analitico 101\n",
    "\n",
    "# defininco intervao de busca\n",
    "hoje = datetime.today()\n",
    "ontem = datetime.today() - timedelta(days=1)\n",
    "ontem_formatado = ontem.strftime('%d%m%Y')\n",
    "primeiro_dia_ano_anterior = hoje.replace(year=hoje.year - 1, day=1, month=1)\n",
    "primeiro_dia_ano_anterior_formatado = primeiro_dia_ano_anterior.strftime('%d%m%Y')\n",
    "\n",
    "pyautogui.press('tab', presses=1, interval=0.5)\n",
    "pyautogui.write(ontem_formatado, interval=0.1)  # data inicial\n",
    "pyautogui.press('tab')\n",
    "pyautogui.write(primeiro_dia_ano_anterior_formatado, interval=0.1)  # data inicial\n",
    "\n",
    "pyautogui.click(x=1024, y=639)\n",
    "time.sleep(220)\n",
    "\n",
    "pyautogui.click(x=308, y=39)  # botao de impressaora para gerar excel\n",
    "pyautogui.press('tab', presses=2, interval=0.5)\n",
    "pyautogui.press('down')\n",
    "pyautogui.press('tab', presses=2, interval=0.5)\n",
    "pyautogui.press('enter')\n",
    "time.sleep(3)\n",
    "\n",
    "detectar_e_aguardar_popup(imagem_popup= r'C:\\Users\\USER\\Desktop\\GitHub\\Automacao-ETL-BI\\src\\popup_aguarde.png', timeout = 230, intervalo = 15)\n",
    "\n",
    "pyautogui.write('pro_matriculas_recebidas', interval=0.1)\n",
    "pyautogui.press('tab', presses=7, interval=0.5)\n",
    "pyautogui.press('enter')\n",
    "time.sleep(2)\n",
    "pyautogui.write(r'C:\\Users\\USER\\Desktop\\GitHub\\Automacao-ETL-BI\\data\\raw', interval=0.1)\n",
    "pyautogui.press('enter')\n",
    "pyautogui.hotkey('alt', 'l')\n",
    "\n",
    "pyautogui.hotkey('alt', 's')\n",
    "time.sleep(10)"
   ]
  },
  {
   "cell_type": "code",
   "execution_count": null,
   "id": "4321e7f3",
   "metadata": {},
   "outputs": [],
   "source": []
  },
  {
   "cell_type": "code",
   "execution_count": null,
   "id": "fca4bb01",
   "metadata": {},
   "outputs": [],
   "source": []
  }
 ],
 "metadata": {
  "kernelspec": {
   "display_name": "venv311",
   "language": "python",
   "name": "python3"
  },
  "language_info": {
   "codemirror_mode": {
    "name": "ipython",
    "version": 3
   },
   "file_extension": ".py",
   "mimetype": "text/x-python",
   "name": "python",
   "nbconvert_exporter": "python",
   "pygments_lexer": "ipython3",
   "version": "3.11.9"
  }
 },
 "nbformat": 4,
 "nbformat_minor": 5
}
